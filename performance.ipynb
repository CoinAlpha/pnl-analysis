{
 "cells": [
  {
   "cell_type": "markdown",
   "metadata": {
    "id": "R-gqzQVU88G1"
   },
   "source": [
    "# Trading Performance\n",
    "\n",
    "This notebook retrieves your trade data from Binance to calculate the pnl from your trading.\n",
    "\n",
    "The methodology for calculating PNL is:\n",
    "\n",
    "1. Calculate the total amount of net base asset purchased (or sold) and the total amount of quote asset spent (or received)\n",
    "2. Calculate the value of these changes based on current asset spot price\n",
    "3. Calculate the value of the fees paid out in the trades\n",
    "\n",
    "Note that this methodology is one way of trying to evaluate the benefit if your trading activity, i.e. doing something versus doing nothing.  This does not capture any changes in portfolio value due to general market movements that may result in the appreciation of the value of base assets and quote assets.\n",
    "\n",
    "## Instructions\n",
    "\n",
    "Step 1) Input your ***read only*** API keys\n",
    "\n",
    "Step 2) Input trading pair and start date\n",
    "\n",
    "Step 3) Select `Runtime` => `Run all`\n",
    "\n",
    "## Notes\n",
    "\n",
    "- `% gain and loss` is based on your current balance of base and quote asset.  This may not be a comprehensive figure if (1) you have made deposits/withdrawals within the period being analyzed, and (2) if you are trading multiple pairs with overlapping base and quote assets\n",
    "\n",
    "## Comments / bugs / suggestions\n",
    "\n",
    "Please email [carlo@hummingbot.io](mailto:carlol@hummingbot.io?subject=Colab:%20Performance%20Sheet).  \n",
    "Please email [amine@hummingbot.io](mailto:amine@hummingbot.io?subject=Colab:%20Performance%20Sheet)."
   ]
  },
  {
   "cell_type": "markdown",
   "metadata": {
    "id": "XPuIIVkdwU60"
   },
   "source": [
    "## Input"
   ]
  },
  {
   "cell_type": "code",
   "execution_count": null,
   "metadata": {
    "executionInfo": {
     "elapsed": 726,
     "status": "ok",
     "timestamp": 1611609976985,
     "user": {
      "displayName": "Amine BENKHOUYA",
      "photoUrl": "https://lh3.googleusercontent.com/a-/AOh14GgHPbjXx4nDfTIrzqwK8qAg9YKesGOEWDN3tzU7vA=s64",
      "userId": "15609828926935255223"
     },
     "user_tz": -60
    },
    "id": "BP60fxYgC3N6"
   },
   "outputs": [],
   "source": [
    "exchange = \n",
    "api_key = \n",
    "api_secret = \n",
    "api_passphrase =\"\" #for kucoin\n",
    "api_group = \"\" #for ascendex\n",
    "trading_pair = \"FRONT-USDT\" #binance: \"XEMUSDT\" | kucoin: \"XEM-USDT\" | ascendex: \"ETH/USDT\"\n",
    "START_TIME = \"2021-07-01 00:00:00\" # for ascendex the date should be close to the real start_date if it's far away we couldn't fetch trades\n"
   ]
  },
  {
   "cell_type": "markdown",
   "metadata": {
    "id": "KVzJj4wQ-5aX"
   },
   "source": [
    "## Install dependencies"
   ]
  },
  {
   "cell_type": "code",
   "execution_count": null,
   "metadata": {
    "colab": {
     "base_uri": "https://localhost:8080/"
    },
    "executionInfo": {
     "elapsed": 7800,
     "status": "ok",
     "timestamp": 1611609984066,
     "user": {
      "displayName": "Amine BENKHOUYA",
      "photoUrl": "https://lh3.googleusercontent.com/a-/AOh14GgHPbjXx4nDfTIrzqwK8qAg9YKesGOEWDN3tzU7vA=s64",
      "userId": "15609828926935255223"
     },
     "user_tz": -60
    },
    "id": "DbeniWuP-rSS",
    "outputId": "4d8a081d-bb8e-452b-919b-307038d4e708"
   },
   "outputs": [],
   "source": [
    "import pandas as pd\n",
    "import numpy as np\n",
    "import json\n",
    "import plotly.graph_objects as go\n",
    "from IPython.core.display import display, HTML\n",
    "from datetime import datetime\n",
    "from src.processing import pnl_calculate\n",
    "\n",
    "# Set display\n",
    "pd.options.display.float_format = '{:,.2f}'.format\n",
    "\n",
    "import warnings\n",
    "warnings.filterwarnings(\"ignore\")\n",
    "\n",
    "client = None\n",
    "if exchange == 'binance': \n",
    "    !pip install binance\n",
    "    !pip install python-binance\n",
    "    from src.binance.BinanceClientWrapper import BinanceClientWrapper \n",
    "    client = BinanceClientWrapper.createInstance(api_key,api_secret)\n",
    "    start_dt = pd.to_datetime(START_TIME)\n",
    "    \n",
    "elif exchange == 'kucoin':\n",
    "    !pip install kucoin-python\n",
    "    from src.kucoin.KucoinClientWrapper import KucoinClientWrapper\n",
    "    client = KucoinClientWrapper.createInstance(api_key,api_secret,api_passphrase)\n",
    "    start_dt = pd.to_datetime(START_TIME).timestamp()\n",
    "\n",
    "elif exchange == 'ascendex':\n",
    "    from src.ascendex.AscendexClientWrapper import AscendexClientWrapper\n",
    "    client = AscendexClientWrapper.createInstance(api_key,api_secret,api_group)\n",
    "    start_dt = int(pd.to_datetime(START_TIME).timestamp()*1000)"
   ]
  },
  {
   "cell_type": "code",
   "execution_count": null,
   "metadata": {},
   "outputs": [],
   "source": [
    "from jinja2 import Template\n",
    "import yaml\n",
    "\n",
    "class Printer:\n",
    "    @staticmethod\n",
    "    def h1(*title):\n",
    "        title_t = Template(\"<h1>{{title}}</h1>\")\n",
    "        display(HTML(title_t.render(title=\" \".join([str(t) for t in title]))))\n",
    "    @staticmethod\n",
    "    def h2(*title):\n",
    "        title_t = Template(\"<h2>{{title}}</h2>\")\n",
    "        display(HTML(title_t.render(title=\" \".join([str(t) for t in title]))))\n",
    "    @staticmethod\n",
    "    def h3(*title):\n",
    "        title_t = Template(\"<h3>{{title}}</h3>\")\n",
    "        display(HTML(title_t.render(title=\" \".join([str(t) for t in title]))))\n",
    "    \n",
    "    @staticmethod\n",
    "    def p_df(df):\n",
    "        \"\"\"Neatly display a dataframe\"\"\"\n",
    "        display(HTML(df.to_html()))\n",
    "        \n",
    "    def p_dict(dt):\n",
    "        df = pd.DataFrame()\n",
    "        df['_'] = dt.keys()\n",
    "        df['__'] = dt.values()\n",
    "        Printer.p_df(df)\n",
    "\n",
    "class Vis:\n",
    "    \n",
    "    def graph_trades(df):\n",
    "        df = df.pivot_table(values=[\"qty\"], columns=[\"side\"], index=[\"date_time\"], aggfunc=np.sum, fill_value=0)\n",
    "        df.columns = map(lambda x: x[1], df.columns)\n",
    "        df = df.resample(\"h\").sum()\n",
    "        df[\"sell\"] = df[\"sell\"] * -1\n",
    "\n",
    "        fig = go.Figure()\n",
    "        x = df.index\n",
    "        for name in np.sort(df.columns):\n",
    "            y = df[name]\n",
    "            fig.add_trace(go.Bar(x=x, y=y, name=name))\n",
    "        fig.update_layout(barmode=\"relative\", legend_orientation=\"h\", yaxis_tickformat=\",.0f\", yaxis_title=\"Base token amounts\")\n",
    "        fig.show()"
   ]
  },
  {
   "cell_type": "code",
   "execution_count": null,
   "metadata": {},
   "outputs": [],
   "source": [
    "balance,base,quote,base_price,quote_price = client.get_current_asset_balance(trading_pair)"
   ]
  },
  {
   "cell_type": "code",
   "execution_count": null,
   "metadata": {},
   "outputs": [],
   "source": [
    "meta = {\n",
    "    'base_asset':base,\n",
    "    'quote_asset':quote,\n",
    "    'quote_asset_price':quote_price,\n",
    "    'base_asset_price':base_price\n",
    "}"
   ]
  },
  {
   "cell_type": "code",
   "execution_count": null,
   "metadata": {},
   "outputs": [],
   "source": [
    "df_trades = client.get_trades(trading_pair,start_dt)"
   ]
  },
  {
   "cell_type": "code",
   "execution_count": null,
   "metadata": {},
   "outputs": [],
   "source": [
    "summary,df_summary_table,total_fees_usd,df_commissions = pnl_calculate(df_trades,balance,meta)"
   ]
  },
  {
   "cell_type": "code",
   "execution_count": null,
   "metadata": {},
   "outputs": [],
   "source": [
    "Printer.h1(trading_pair,\":\",START_TIME,\"to\", datetime.utcnow().replace(microsecond=0))\n",
    "\n",
    "total_balance_usd = balance['usd_value'].sum()\n",
    "Printer.h3(f\"Current balance: ${total_balance_usd:,.2f}\")\n",
    "Printer.p_df(balance)\n",
    "\n",
    "## Calculate performance\n",
    "Printer.h2(\"Trades\")\n",
    "Printer.p_df(df_trades)\n",
    "Printer.h2(\"Performance summary\")\n",
    "Printer.p_dict(summary)\n",
    "Printer.p_df(df_summary_table)\n",
    "Printer.h2(f\"Trade commissions: {total_fees_usd}\")\n",
    "Printer.p_df(df_commissions)\n",
    "Printer.h3(\"Historical trades\")\n",
    "Vis.graph_trades(df_trades)"
   ]
  }
 ],
 "metadata": {
  "colab": {
   "collapsed_sections": [
    "KVzJj4wQ-5aX",
    "CELSvlMwoGf8"
   ],
   "name": "binance_trade_performance-Copy1.ipynb",
   "provenance": [],
   "toc_visible": true
  },
  "kernelspec": {
   "display_name": "Python 3 (ipykernel)",
   "language": "python",
   "name": "python3"
  },
  "language_info": {
   "codemirror_mode": {
    "name": "ipython",
    "version": 3
   },
   "file_extension": ".py",
   "mimetype": "text/x-python",
   "name": "python",
   "nbconvert_exporter": "python",
   "pygments_lexer": "ipython3",
   "version": "3.8.2"
  },
  "metadata": {
   "interpreter": {
    "hash": "587ccf73cd318fc50ffc3e0fec2a6e9072db86ee0509035af0d4ce03a5f80542"
   }
  }
 },
 "nbformat": 4,
 "nbformat_minor": 4
}
